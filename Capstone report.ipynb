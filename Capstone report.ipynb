{
 "cells": [
  {
   "cell_type": "markdown",
   "metadata": {},
   "source": [
    "![alt text](https://i.redd.it/iupg48tbwtc51.jpg \"Stay Safe\")\n",
    "\n",
    "# <center><font color='white'>__I am about to open restaurant in South Mumbai !__</font></center>\n",
    "## <center><font color='yellow'>__But which type of restaurant should i setup?__</font></center>\n",
    "### <center><font color='green'>__DataScience can help us answer this question__</font></center>\n",
    "***\n",
    "# Introduction to the problem and how can we solve it \n",
    "\n",
    "\n",
    "**Competition** can be an important factor towards deciding whether  what type of restaurant has to be setup in a particular locality. Multiple factors comes into play such as pre-existing restaurants in the area, their ratings, location, prices, etc.\n",
    "Now, for anyone who wants to switch towards hotel business and want to begin a food franchise in **South Mumbai, India**, data science can help us analyse this topic.<br><br>\n",
    "The target of this project is to suggest types of food franchises that can be setup in South Mumbai based on the historic data about the existing restaurants. Using **FourSquare API** and **Zomato API**, it is possible to extract data of existing food businesses around the locality and form a conclusion about what can be the best type of restaurant that can be set up which has an **higher probability of being profitable**.<br><br>\n",
    "Based on the data collected from the two API about the existing business in that particular area we can then move towards cleaning and finding possible correlation between the business, its opinion based on the rating, location, price etc. Once curated, the user can be prompted with a suggestion regarding what type of restaurants is lacking in what part of South Mumbai and this can **help the user come closer towards making a decison**. <br><br>\n",
    "***\n",
    "# Data Collection and Data Description\n",
    "_Two main APIs will be required to majorly satisfy the data requirement for this project and they are :_\n",
    "* **FourSquare API**: This API can help collect all the venues upto a radius specified. We are going to analyse a radius of upto 8km-10km depending on the data requirement in conjugate to the api calls that can be made. Four Square API provides us with different types of venues which can be or not be specifically resturants. But sending a variable through the API can help us get only the restaurants in the particular radius. The Foursquare API has the explore API which allows us to find venue recommendations within a given radius from the given coordinates. We will use this API to find all the venues we need. Regarding the venues, we get multiple types of information about the venue itself like \n",
    "    + Latitude & Longitude of the venue\n",
    "    + Category of the venue(which is obviously a restaurant).\n",
    "    + Name of the venue (Which will be used in integration with the next API).\n",
    "    + Venue address (Physical Address).\n",
    "Number and the types of venues change depending on the time of the day the api is called. That is how Foursquare functions under the hood. But the number will be close to 105-109.\n",
    "\n",
    "* **Zomato API**: Fetched venues from the above api can be used as input for this api which in return gives rating of the venue, price ranges, etc \n",
    "Zomato API provides us with various forms of access. Depending on what is needed for that particular project like cuisine, daily menu, review etc, all of these data can be accessed through Zomato's REST API.<br>\n",
    "Accessing the data through the API requires a **user access key** which is to be accepted from the developer website page, by submitting necessary information. For this analysis, Zomato's **search API** will be used, which will help to search any particular venue based on it name, latitude, longitude etc.Since we have 3 major values for search already ready from the previoius API used, it will be helpful in determining the other values of the venue itself.<br><br>\n",
    "**Inputs to the API call includes:**\n",
    "    + _name_ of the venue itself\n",
    "    + _Latitude_ and _Longitude_ of the venue\n",
    "    + Since we have the precise latitude and Longitude, _count_ value will be 1 because we need that one venue and not collection\n",
    "    + _start_ value determines the offset from the location that is provided that helps when count is more that 1 or when a collection of restraunts is required. But we need not require that value to it is kept _0_.\n",
    "    + _sort_ is based on real_distance so each time we get the venue we're searching based on location coordinates.\n"
   ]
  }
 ],
 "metadata": {
  "kernelspec": {
   "display_name": "Python 3",
   "language": "python",
   "name": "python3"
  },
  "language_info": {
   "codemirror_mode": {
    "name": "ipython",
    "version": 3
   },
   "file_extension": ".py",
   "mimetype": "text/x-python",
   "name": "python",
   "nbconvert_exporter": "python",
   "pygments_lexer": "ipython3",
   "version": "3.8.3"
  }
 },
 "nbformat": 4,
 "nbformat_minor": 4
}
